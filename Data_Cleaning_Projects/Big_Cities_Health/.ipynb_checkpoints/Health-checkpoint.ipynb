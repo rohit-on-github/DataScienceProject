{
 "cells": [
  {
   "cell_type": "markdown",
   "metadata": {},
   "source": [
    "# Big Cities Health"
   ]
  },
  {
   "cell_type": "markdown",
   "metadata": {},
   "source": [
    "#### Description"
   ]
  },
  {
   "cell_type": "markdown",
   "metadata": {},
   "source": [
    "    Illustrates health status of 26 of the nation’s largest and most urban cities."
   ]
  },
  {
   "cell_type": "markdown",
   "metadata": {},
   "source": [
    "#### Summary"
   ]
  },
  {
   "cell_type": "markdown",
   "metadata": {},
   "source": [
    "    This dataset illustrates health status of 26 of the nation’s largest and most urban cities as captured by 34 health (and six demographics-related) indicators. These indicators represent some of the leading causes of morbidity and mortality in the United States and leading priorities of national, state, and local health agencies. Public health data were captured in nine overarching categories: HIV/AIDS, cancer, nutrition/physical activity/obesity, food safety, infectious disease, maternal and child health, tobacco, injury/violence, and behavioral health/substance abuse."
   ]
  },
  {
   "cell_type": "markdown",
   "metadata": {},
   "source": [
    "Attribution:U.S. Centers for Disease Control and Prevention"
   ]
  },
  {
   "cell_type": "markdown",
   "metadata": {},
   "source": [
    "Source: Big Cities Health Inventory Data"
   ]
  },
  {
   "cell_type": "markdown",
   "metadata": {},
   "source": [
    "## Aim"
   ]
  },
  {
   "cell_type": "markdown",
   "metadata": {},
   "source": [
    "    To perform Data cleaning on the Data set"
   ]
  },
  {
   "cell_type": "markdown",
   "metadata": {},
   "source": [
    "#### Importing Libraries"
   ]
  },
  {
   "cell_type": "code",
   "execution_count": 65,
   "metadata": {},
   "outputs": [],
   "source": [
    "#Python\n",
    "import numpy as np\n",
    "import pandas as pd\n",
    "\n",
    "#Visualization\n",
    "import matplotlib.pyplot as plt\n",
    "import seaborn as sns\n",
    "\n",
    "#Data cleaning\n",
    "import missingno\n",
    "\n"
   ]
  },
  {
   "cell_type": "markdown",
   "metadata": {},
   "source": [
    "#### Importing Dataset"
   ]
  },
  {
   "cell_type": "markdown",
   "metadata": {},
   "source": [
    "    The dataset could be found using the following link "
   ]
  },
  {
   "cell_type": "code",
   "execution_count": 3,
   "metadata": {},
   "outputs": [
    {
     "data": {
      "text/html": [
       "<div>\n",
       "<style scoped>\n",
       "    .dataframe tbody tr th:only-of-type {\n",
       "        vertical-align: middle;\n",
       "    }\n",
       "\n",
       "    .dataframe tbody tr th {\n",
       "        vertical-align: top;\n",
       "    }\n",
       "\n",
       "    .dataframe thead th {\n",
       "        text-align: right;\n",
       "    }\n",
       "</style>\n",
       "<table border=\"1\" class=\"dataframe\">\n",
       "  <thead>\n",
       "    <tr style=\"text-align: right;\">\n",
       "      <th></th>\n",
       "      <th>Indicator Category</th>\n",
       "      <th>Indicator</th>\n",
       "      <th>Year</th>\n",
       "      <th>Gender</th>\n",
       "      <th>Race/ Ethnicity</th>\n",
       "      <th>Value</th>\n",
       "      <th>Place</th>\n",
       "      <th>BCHC Requested Methodology</th>\n",
       "      <th>Source</th>\n",
       "      <th>Methods</th>\n",
       "      <th>Notes</th>\n",
       "    </tr>\n",
       "  </thead>\n",
       "  <tbody>\n",
       "    <tr>\n",
       "      <th>0</th>\n",
       "      <td>HIV/AIDS</td>\n",
       "      <td>AIDS Diagnoses Rate (Per 100,000 people)</td>\n",
       "      <td>2013</td>\n",
       "      <td>Both</td>\n",
       "      <td>All</td>\n",
       "      <td>30.4</td>\n",
       "      <td>Atlanta (Fulton County), GA</td>\n",
       "      <td>AIDS cases diagnosed in 2012, 2013, 2014 (as a...</td>\n",
       "      <td>Diagnoses numbers were obtained from the Georg...</td>\n",
       "      <td>NaN</td>\n",
       "      <td>NaN</td>\n",
       "    </tr>\n",
       "    <tr>\n",
       "      <th>1</th>\n",
       "      <td>HIV/AIDS</td>\n",
       "      <td>AIDS Diagnoses Rate (Per 100,000 people)</td>\n",
       "      <td>2012</td>\n",
       "      <td>Both</td>\n",
       "      <td>All</td>\n",
       "      <td>39.6</td>\n",
       "      <td>Atlanta (Fulton County), GA</td>\n",
       "      <td>AIDS cases diagnosed in 2012, 2013, 2014 (as a...</td>\n",
       "      <td>Diagnoses numbers were obtained from the Georg...</td>\n",
       "      <td>NaN</td>\n",
       "      <td>NaN</td>\n",
       "    </tr>\n",
       "    <tr>\n",
       "      <th>2</th>\n",
       "      <td>HIV/AIDS</td>\n",
       "      <td>AIDS Diagnoses Rate (Per 100,000 people)</td>\n",
       "      <td>2011</td>\n",
       "      <td>Both</td>\n",
       "      <td>All</td>\n",
       "      <td>41.7</td>\n",
       "      <td>Atlanta (Fulton County), GA</td>\n",
       "      <td>AIDS cases diagnosed in 2012, 2013, 2014 (as a...</td>\n",
       "      <td>Diagnoses numbers were obtained from the Georg...</td>\n",
       "      <td>NaN</td>\n",
       "      <td>NaN</td>\n",
       "    </tr>\n",
       "    <tr>\n",
       "      <th>3</th>\n",
       "      <td>Cancer</td>\n",
       "      <td>All Types of Cancer Mortality Rate (Age-Adjust...</td>\n",
       "      <td>2013</td>\n",
       "      <td>Male</td>\n",
       "      <td>All</td>\n",
       "      <td>195.8</td>\n",
       "      <td>Atlanta (Fulton County), GA</td>\n",
       "      <td>2012, 2013, 2014; per 100,000 population using...</td>\n",
       "      <td>National Center for Health Statistics (NCHS), CDC</td>\n",
       "      <td>NaN</td>\n",
       "      <td>NaN</td>\n",
       "    </tr>\n",
       "    <tr>\n",
       "      <th>4</th>\n",
       "      <td>Cancer</td>\n",
       "      <td>All Types of Cancer Mortality Rate (Age-Adjust...</td>\n",
       "      <td>2013</td>\n",
       "      <td>Female</td>\n",
       "      <td>All</td>\n",
       "      <td>135.5</td>\n",
       "      <td>Atlanta (Fulton County), GA</td>\n",
       "      <td>2012, 2013, 2014; per 100,000 population using...</td>\n",
       "      <td>National Center for Health Statistics (NCHS), CDC</td>\n",
       "      <td>NaN</td>\n",
       "      <td>NaN</td>\n",
       "    </tr>\n",
       "  </tbody>\n",
       "</table>\n",
       "</div>"
      ],
      "text/plain": [
       "  Indicator Category                                          Indicator  Year  \\\n",
       "0           HIV/AIDS           AIDS Diagnoses Rate (Per 100,000 people)  2013   \n",
       "1           HIV/AIDS           AIDS Diagnoses Rate (Per 100,000 people)  2012   \n",
       "2           HIV/AIDS           AIDS Diagnoses Rate (Per 100,000 people)  2011   \n",
       "3             Cancer  All Types of Cancer Mortality Rate (Age-Adjust...  2013   \n",
       "4             Cancer  All Types of Cancer Mortality Rate (Age-Adjust...  2013   \n",
       "\n",
       "   Gender Race/ Ethnicity  Value                        Place  \\\n",
       "0    Both             All   30.4  Atlanta (Fulton County), GA   \n",
       "1    Both             All   39.6  Atlanta (Fulton County), GA   \n",
       "2    Both             All   41.7  Atlanta (Fulton County), GA   \n",
       "3    Male             All  195.8  Atlanta (Fulton County), GA   \n",
       "4  Female             All  135.5  Atlanta (Fulton County), GA   \n",
       "\n",
       "                          BCHC Requested Methodology  \\\n",
       "0  AIDS cases diagnosed in 2012, 2013, 2014 (as a...   \n",
       "1  AIDS cases diagnosed in 2012, 2013, 2014 (as a...   \n",
       "2  AIDS cases diagnosed in 2012, 2013, 2014 (as a...   \n",
       "3  2012, 2013, 2014; per 100,000 population using...   \n",
       "4  2012, 2013, 2014; per 100,000 population using...   \n",
       "\n",
       "                                              Source Methods Notes  \n",
       "0  Diagnoses numbers were obtained from the Georg...     NaN   NaN  \n",
       "1  Diagnoses numbers were obtained from the Georg...     NaN   NaN  \n",
       "2  Diagnoses numbers were obtained from the Georg...     NaN   NaN  \n",
       "3  National Center for Health Statistics (NCHS), CDC     NaN   NaN  \n",
       "4  National Center for Health Statistics (NCHS), CDC     NaN   NaN  "
      ]
     },
     "execution_count": 3,
     "metadata": {},
     "output_type": "execute_result"
    }
   ],
   "source": [
    "health_df=pd.read_csv('https://query.data.world/s/nnsiif4n3gg3oj6o6efdiuqfr2eded')\n",
    "health_df.head()"
   ]
  },
  {
   "cell_type": "code",
   "execution_count": 5,
   "metadata": {},
   "outputs": [
    {
     "data": {
      "text/html": [
       "<div>\n",
       "<style scoped>\n",
       "    .dataframe tbody tr th:only-of-type {\n",
       "        vertical-align: middle;\n",
       "    }\n",
       "\n",
       "    .dataframe tbody tr th {\n",
       "        vertical-align: top;\n",
       "    }\n",
       "\n",
       "    .dataframe thead th {\n",
       "        text-align: right;\n",
       "    }\n",
       "</style>\n",
       "<table border=\"1\" class=\"dataframe\">\n",
       "  <thead>\n",
       "    <tr style=\"text-align: right;\">\n",
       "      <th></th>\n",
       "      <th>Indicator Category</th>\n",
       "      <th>Indicator</th>\n",
       "      <th>Year</th>\n",
       "      <th>Gender</th>\n",
       "      <th>Race/ Ethnicity</th>\n",
       "      <th>Value</th>\n",
       "      <th>Place</th>\n",
       "      <th>BCHC Requested Methodology</th>\n",
       "      <th>Source</th>\n",
       "      <th>Methods</th>\n",
       "      <th>Notes</th>\n",
       "    </tr>\n",
       "  </thead>\n",
       "  <tbody>\n",
       "    <tr>\n",
       "      <th>13036</th>\n",
       "      <td>HIV/AIDS</td>\n",
       "      <td>HIV Diagnoses Rate (Per 100,000 people)</td>\n",
       "      <td>2012</td>\n",
       "      <td>Female</td>\n",
       "      <td>All</td>\n",
       "      <td>5.1</td>\n",
       "      <td>Long Beach, CA</td>\n",
       "      <td>HIV cases diagnosed in 2012, 2013, 20014 (as a...</td>\n",
       "      <td>Source: U.S. Census Bureau, 2010 Census; Calif...</td>\n",
       "      <td>NaN</td>\n",
       "      <td>Counts from which rates are derived are subjec...</td>\n",
       "    </tr>\n",
       "  </tbody>\n",
       "</table>\n",
       "</div>"
      ],
      "text/plain": [
       "      Indicator Category                                Indicator  Year  \\\n",
       "13036           HIV/AIDS  HIV Diagnoses Rate (Per 100,000 people)  2012   \n",
       "\n",
       "       Gender Race/ Ethnicity  Value           Place  \\\n",
       "13036  Female             All    5.1  Long Beach, CA   \n",
       "\n",
       "                              BCHC Requested Methodology  \\\n",
       "13036  HIV cases diagnosed in 2012, 2013, 20014 (as a...   \n",
       "\n",
       "                                                  Source Methods  \\\n",
       "13036  Source: U.S. Census Bureau, 2010 Census; Calif...     NaN   \n",
       "\n",
       "                                                   Notes  \n",
       "13036  Counts from which rates are derived are subjec...  "
      ]
     },
     "execution_count": 5,
     "metadata": {},
     "output_type": "execute_result"
    }
   ],
   "source": [
    "health_df.sample()"
   ]
  },
  {
   "cell_type": "markdown",
   "metadata": {},
   "source": [
    "#### Column removal"
   ]
  },
  {
   "cell_type": "markdown",
   "metadata": {},
   "source": [
    "    Here all the columns seems to be essential, so there is no need to remove any of them"
   ]
  },
  {
   "cell_type": "markdown",
   "metadata": {},
   "source": [
    "#### Changing Index"
   ]
  },
  {
   "cell_type": "code",
   "execution_count": 39,
   "metadata": {},
   "outputs": [
    {
     "data": {
      "text/html": [
       "<div>\n",
       "<style scoped>\n",
       "    .dataframe tbody tr th:only-of-type {\n",
       "        vertical-align: middle;\n",
       "    }\n",
       "\n",
       "    .dataframe tbody tr th {\n",
       "        vertical-align: top;\n",
       "    }\n",
       "\n",
       "    .dataframe thead th {\n",
       "        text-align: right;\n",
       "    }\n",
       "</style>\n",
       "<table border=\"1\" class=\"dataframe\">\n",
       "  <thead>\n",
       "    <tr style=\"text-align: right;\">\n",
       "      <th></th>\n",
       "      <th>Indicator Category</th>\n",
       "      <th>Indicator</th>\n",
       "      <th>Year</th>\n",
       "      <th>Gender</th>\n",
       "      <th>Race/ Ethnicity</th>\n",
       "      <th>Value</th>\n",
       "      <th>Place</th>\n",
       "      <th>BCHC Requested Methodology</th>\n",
       "      <th>Source</th>\n",
       "      <th>Methods</th>\n",
       "      <th>Notes</th>\n",
       "      <th>Identifier</th>\n",
       "    </tr>\n",
       "    <tr>\n",
       "      <th>Identifier</th>\n",
       "      <th></th>\n",
       "      <th></th>\n",
       "      <th></th>\n",
       "      <th></th>\n",
       "      <th></th>\n",
       "      <th></th>\n",
       "      <th></th>\n",
       "      <th></th>\n",
       "      <th></th>\n",
       "      <th></th>\n",
       "      <th></th>\n",
       "      <th></th>\n",
       "    </tr>\n",
       "  </thead>\n",
       "  <tbody>\n",
       "    <tr>\n",
       "      <th>1</th>\n",
       "      <td>HIV/AIDS</td>\n",
       "      <td>AIDS Diagnoses Rate (Per 100,000 people)</td>\n",
       "      <td>2013</td>\n",
       "      <td>Both</td>\n",
       "      <td>All</td>\n",
       "      <td>30.4</td>\n",
       "      <td>Atlanta (Fulton County), GA</td>\n",
       "      <td>AIDS cases diagnosed in 2012, 2013, 2014 (as a...</td>\n",
       "      <td>Diagnoses numbers were obtained from the Georg...</td>\n",
       "      <td>NaN</td>\n",
       "      <td>NaN</td>\n",
       "      <td>1</td>\n",
       "    </tr>\n",
       "    <tr>\n",
       "      <th>2</th>\n",
       "      <td>HIV/AIDS</td>\n",
       "      <td>AIDS Diagnoses Rate (Per 100,000 people)</td>\n",
       "      <td>2012</td>\n",
       "      <td>Both</td>\n",
       "      <td>All</td>\n",
       "      <td>39.6</td>\n",
       "      <td>Atlanta (Fulton County), GA</td>\n",
       "      <td>AIDS cases diagnosed in 2012, 2013, 2014 (as a...</td>\n",
       "      <td>Diagnoses numbers were obtained from the Georg...</td>\n",
       "      <td>NaN</td>\n",
       "      <td>NaN</td>\n",
       "      <td>2</td>\n",
       "    </tr>\n",
       "    <tr>\n",
       "      <th>3</th>\n",
       "      <td>HIV/AIDS</td>\n",
       "      <td>AIDS Diagnoses Rate (Per 100,000 people)</td>\n",
       "      <td>2011</td>\n",
       "      <td>Both</td>\n",
       "      <td>All</td>\n",
       "      <td>41.7</td>\n",
       "      <td>Atlanta (Fulton County), GA</td>\n",
       "      <td>AIDS cases diagnosed in 2012, 2013, 2014 (as a...</td>\n",
       "      <td>Diagnoses numbers were obtained from the Georg...</td>\n",
       "      <td>NaN</td>\n",
       "      <td>NaN</td>\n",
       "      <td>3</td>\n",
       "    </tr>\n",
       "    <tr>\n",
       "      <th>4</th>\n",
       "      <td>Cancer</td>\n",
       "      <td>All Types of Cancer Mortality Rate (Age-Adjust...</td>\n",
       "      <td>2013</td>\n",
       "      <td>Male</td>\n",
       "      <td>All</td>\n",
       "      <td>195.8</td>\n",
       "      <td>Atlanta (Fulton County), GA</td>\n",
       "      <td>2012, 2013, 2014; per 100,000 population using...</td>\n",
       "      <td>National Center for Health Statistics (NCHS), CDC</td>\n",
       "      <td>NaN</td>\n",
       "      <td>NaN</td>\n",
       "      <td>4</td>\n",
       "    </tr>\n",
       "    <tr>\n",
       "      <th>5</th>\n",
       "      <td>Cancer</td>\n",
       "      <td>All Types of Cancer Mortality Rate (Age-Adjust...</td>\n",
       "      <td>2013</td>\n",
       "      <td>Female</td>\n",
       "      <td>All</td>\n",
       "      <td>135.5</td>\n",
       "      <td>Atlanta (Fulton County), GA</td>\n",
       "      <td>2012, 2013, 2014; per 100,000 population using...</td>\n",
       "      <td>National Center for Health Statistics (NCHS), CDC</td>\n",
       "      <td>NaN</td>\n",
       "      <td>NaN</td>\n",
       "      <td>5</td>\n",
       "    </tr>\n",
       "  </tbody>\n",
       "</table>\n",
       "</div>"
      ],
      "text/plain": [
       "           Indicator Category  \\\n",
       "Identifier                      \n",
       "1                    HIV/AIDS   \n",
       "2                    HIV/AIDS   \n",
       "3                    HIV/AIDS   \n",
       "4                      Cancer   \n",
       "5                      Cancer   \n",
       "\n",
       "                                                    Indicator  Year  Gender  \\\n",
       "Identifier                                                                    \n",
       "1                    AIDS Diagnoses Rate (Per 100,000 people)  2013    Both   \n",
       "2                    AIDS Diagnoses Rate (Per 100,000 people)  2012    Both   \n",
       "3                    AIDS Diagnoses Rate (Per 100,000 people)  2011    Both   \n",
       "4           All Types of Cancer Mortality Rate (Age-Adjust...  2013    Male   \n",
       "5           All Types of Cancer Mortality Rate (Age-Adjust...  2013  Female   \n",
       "\n",
       "           Race/ Ethnicity  Value                        Place  \\\n",
       "Identifier                                                       \n",
       "1                      All   30.4  Atlanta (Fulton County), GA   \n",
       "2                      All   39.6  Atlanta (Fulton County), GA   \n",
       "3                      All   41.7  Atlanta (Fulton County), GA   \n",
       "4                      All  195.8  Atlanta (Fulton County), GA   \n",
       "5                      All  135.5  Atlanta (Fulton County), GA   \n",
       "\n",
       "                                   BCHC Requested Methodology  \\\n",
       "Identifier                                                      \n",
       "1           AIDS cases diagnosed in 2012, 2013, 2014 (as a...   \n",
       "2           AIDS cases diagnosed in 2012, 2013, 2014 (as a...   \n",
       "3           AIDS cases diagnosed in 2012, 2013, 2014 (as a...   \n",
       "4           2012, 2013, 2014; per 100,000 population using...   \n",
       "5           2012, 2013, 2014; per 100,000 population using...   \n",
       "\n",
       "                                                       Source Methods Notes  \\\n",
       "Identifier                                                                    \n",
       "1           Diagnoses numbers were obtained from the Georg...     NaN   NaN   \n",
       "2           Diagnoses numbers were obtained from the Georg...     NaN   NaN   \n",
       "3           Diagnoses numbers were obtained from the Georg...     NaN   NaN   \n",
       "4           National Center for Health Statistics (NCHS), CDC     NaN   NaN   \n",
       "5           National Center for Health Statistics (NCHS), CDC     NaN   NaN   \n",
       "\n",
       "            Identifier  \n",
       "Identifier              \n",
       "1                    1  \n",
       "2                    2  \n",
       "3                    3  \n",
       "4                    4  \n",
       "5                    5  "
      ]
     },
     "execution_count": 39,
     "metadata": {},
     "output_type": "execute_result"
    }
   ],
   "source": [
    "health_df1=health_df\n",
    "health_df1['Identifier']=list(range(1,13513))\n",
    "health_df1.head()"
   ]
  },
  {
   "cell_type": "code",
   "execution_count": 43,
   "metadata": {},
   "outputs": [
    {
     "data": {
      "text/html": [
       "<div>\n",
       "<style scoped>\n",
       "    .dataframe tbody tr th:only-of-type {\n",
       "        vertical-align: middle;\n",
       "    }\n",
       "\n",
       "    .dataframe tbody tr th {\n",
       "        vertical-align: top;\n",
       "    }\n",
       "\n",
       "    .dataframe thead th {\n",
       "        text-align: right;\n",
       "    }\n",
       "</style>\n",
       "<table border=\"1\" class=\"dataframe\">\n",
       "  <thead>\n",
       "    <tr style=\"text-align: right;\">\n",
       "      <th></th>\n",
       "      <th>Indicator Category</th>\n",
       "      <th>Indicator</th>\n",
       "      <th>Year</th>\n",
       "      <th>Gender</th>\n",
       "      <th>Race/ Ethnicity</th>\n",
       "      <th>Value</th>\n",
       "      <th>Place</th>\n",
       "      <th>BCHC Requested Methodology</th>\n",
       "      <th>Source</th>\n",
       "      <th>Methods</th>\n",
       "      <th>Notes</th>\n",
       "    </tr>\n",
       "    <tr>\n",
       "      <th>Identifier</th>\n",
       "      <th></th>\n",
       "      <th></th>\n",
       "      <th></th>\n",
       "      <th></th>\n",
       "      <th></th>\n",
       "      <th></th>\n",
       "      <th></th>\n",
       "      <th></th>\n",
       "      <th></th>\n",
       "      <th></th>\n",
       "      <th></th>\n",
       "    </tr>\n",
       "  </thead>\n",
       "  <tbody>\n",
       "    <tr>\n",
       "      <th>1</th>\n",
       "      <td>HIV/AIDS</td>\n",
       "      <td>AIDS Diagnoses Rate (Per 100,000 people)</td>\n",
       "      <td>2013</td>\n",
       "      <td>Both</td>\n",
       "      <td>All</td>\n",
       "      <td>30.4</td>\n",
       "      <td>Atlanta (Fulton County), GA</td>\n",
       "      <td>AIDS cases diagnosed in 2012, 2013, 2014 (as a...</td>\n",
       "      <td>Diagnoses numbers were obtained from the Georg...</td>\n",
       "      <td>NaN</td>\n",
       "      <td>NaN</td>\n",
       "    </tr>\n",
       "    <tr>\n",
       "      <th>2</th>\n",
       "      <td>HIV/AIDS</td>\n",
       "      <td>AIDS Diagnoses Rate (Per 100,000 people)</td>\n",
       "      <td>2012</td>\n",
       "      <td>Both</td>\n",
       "      <td>All</td>\n",
       "      <td>39.6</td>\n",
       "      <td>Atlanta (Fulton County), GA</td>\n",
       "      <td>AIDS cases diagnosed in 2012, 2013, 2014 (as a...</td>\n",
       "      <td>Diagnoses numbers were obtained from the Georg...</td>\n",
       "      <td>NaN</td>\n",
       "      <td>NaN</td>\n",
       "    </tr>\n",
       "    <tr>\n",
       "      <th>3</th>\n",
       "      <td>HIV/AIDS</td>\n",
       "      <td>AIDS Diagnoses Rate (Per 100,000 people)</td>\n",
       "      <td>2011</td>\n",
       "      <td>Both</td>\n",
       "      <td>All</td>\n",
       "      <td>41.7</td>\n",
       "      <td>Atlanta (Fulton County), GA</td>\n",
       "      <td>AIDS cases diagnosed in 2012, 2013, 2014 (as a...</td>\n",
       "      <td>Diagnoses numbers were obtained from the Georg...</td>\n",
       "      <td>NaN</td>\n",
       "      <td>NaN</td>\n",
       "    </tr>\n",
       "    <tr>\n",
       "      <th>4</th>\n",
       "      <td>Cancer</td>\n",
       "      <td>All Types of Cancer Mortality Rate (Age-Adjust...</td>\n",
       "      <td>2013</td>\n",
       "      <td>Male</td>\n",
       "      <td>All</td>\n",
       "      <td>195.8</td>\n",
       "      <td>Atlanta (Fulton County), GA</td>\n",
       "      <td>2012, 2013, 2014; per 100,000 population using...</td>\n",
       "      <td>National Center for Health Statistics (NCHS), CDC</td>\n",
       "      <td>NaN</td>\n",
       "      <td>NaN</td>\n",
       "    </tr>\n",
       "    <tr>\n",
       "      <th>5</th>\n",
       "      <td>Cancer</td>\n",
       "      <td>All Types of Cancer Mortality Rate (Age-Adjust...</td>\n",
       "      <td>2013</td>\n",
       "      <td>Female</td>\n",
       "      <td>All</td>\n",
       "      <td>135.5</td>\n",
       "      <td>Atlanta (Fulton County), GA</td>\n",
       "      <td>2012, 2013, 2014; per 100,000 population using...</td>\n",
       "      <td>National Center for Health Statistics (NCHS), CDC</td>\n",
       "      <td>NaN</td>\n",
       "      <td>NaN</td>\n",
       "    </tr>\n",
       "  </tbody>\n",
       "</table>\n",
       "</div>"
      ],
      "text/plain": [
       "           Indicator Category  \\\n",
       "Identifier                      \n",
       "1                    HIV/AIDS   \n",
       "2                    HIV/AIDS   \n",
       "3                    HIV/AIDS   \n",
       "4                      Cancer   \n",
       "5                      Cancer   \n",
       "\n",
       "                                                    Indicator  Year  Gender  \\\n",
       "Identifier                                                                    \n",
       "1                    AIDS Diagnoses Rate (Per 100,000 people)  2013    Both   \n",
       "2                    AIDS Diagnoses Rate (Per 100,000 people)  2012    Both   \n",
       "3                    AIDS Diagnoses Rate (Per 100,000 people)  2011    Both   \n",
       "4           All Types of Cancer Mortality Rate (Age-Adjust...  2013    Male   \n",
       "5           All Types of Cancer Mortality Rate (Age-Adjust...  2013  Female   \n",
       "\n",
       "           Race/ Ethnicity  Value                        Place  \\\n",
       "Identifier                                                       \n",
       "1                      All   30.4  Atlanta (Fulton County), GA   \n",
       "2                      All   39.6  Atlanta (Fulton County), GA   \n",
       "3                      All   41.7  Atlanta (Fulton County), GA   \n",
       "4                      All  195.8  Atlanta (Fulton County), GA   \n",
       "5                      All  135.5  Atlanta (Fulton County), GA   \n",
       "\n",
       "                                   BCHC Requested Methodology  \\\n",
       "Identifier                                                      \n",
       "1           AIDS cases diagnosed in 2012, 2013, 2014 (as a...   \n",
       "2           AIDS cases diagnosed in 2012, 2013, 2014 (as a...   \n",
       "3           AIDS cases diagnosed in 2012, 2013, 2014 (as a...   \n",
       "4           2012, 2013, 2014; per 100,000 population using...   \n",
       "5           2012, 2013, 2014; per 100,000 population using...   \n",
       "\n",
       "                                                       Source Methods Notes  \n",
       "Identifier                                                                   \n",
       "1           Diagnoses numbers were obtained from the Georg...     NaN   NaN  \n",
       "2           Diagnoses numbers were obtained from the Georg...     NaN   NaN  \n",
       "3           Diagnoses numbers were obtained from the Georg...     NaN   NaN  \n",
       "4           National Center for Health Statistics (NCHS), CDC     NaN   NaN  \n",
       "5           National Center for Health Statistics (NCHS), CDC     NaN   NaN  "
      ]
     },
     "execution_count": 43,
     "metadata": {},
     "output_type": "execute_result"
    }
   ],
   "source": [
    "health_df1.set_index(\"Identifier\",inplace=True)\n",
    "health_df1.head()"
   ]
  },
  {
   "cell_type": "markdown",
   "metadata": {},
   "source": [
    "#### Tidying up fields"
   ]
  },
  {
   "cell_type": "code",
   "execution_count": 57,
   "metadata": {},
   "outputs": [
    {
     "data": {
      "text/plain": [
       "HIV/AIDS                                    2177\n",
       "Injury and Violence                         1916\n",
       "Nutrition, Physical Activity, & Obesity     1841\n",
       "Infectious Disease                          1486\n",
       "Cancer                                      1432\n",
       "Maternal and Child Health                   1323\n",
       "Behavioral Health/Substance Abuse            983\n",
       "Food Safety                                  874\n",
       "Life Expectancy and Death Rate (Overall)     544\n",
       "Demographics                                 504\n",
       "Tobacco                                      432\n",
       "Name: Indicator Category, dtype: int64"
      ]
     },
     "execution_count": 57,
     "metadata": {},
     "output_type": "execute_result"
    }
   ],
   "source": [
    "health_df1[\"Indicator Category\"].value_counts()"
   ]
  },
  {
   "cell_type": "code",
   "execution_count": 58,
   "metadata": {},
   "outputs": [
    {
     "data": {
      "text/plain": [
       "2012         3950\n",
       "2013         3657\n",
       "2011         3501\n",
       "2010         1357\n",
       "2014         1020\n",
       "2008-2012       7\n",
       "2011-2012       6\n",
       "2015            6\n",
       "2007-2012       3\n",
       "2003-2012       2\n",
       "2011-2013       1\n",
       "2004-2013       1\n",
       "2003-2013       1\n",
       "Name: Year, dtype: int64"
      ]
     },
     "execution_count": 58,
     "metadata": {},
     "output_type": "execute_result"
    }
   ],
   "source": [
    "health_df1[\"Year\"].value_counts()"
   ]
  },
  {
   "cell_type": "code",
   "execution_count": 59,
   "metadata": {},
   "outputs": [
    {
     "data": {
      "text/plain": [
       "Both      9409\n",
       "Female    2423\n",
       "Male      1680\n",
       "Name: Gender, dtype: int64"
      ]
     },
     "execution_count": 59,
     "metadata": {},
     "output_type": "execute_result"
    }
   ],
   "source": [
    "health_df1[\"Gender\"].value_counts()"
   ]
  },
  {
   "cell_type": "code",
   "execution_count": 60,
   "metadata": {},
   "outputs": [
    {
     "data": {
      "text/plain": [
       "All                              5757\n",
       "White                            1914\n",
       "Black                            1869\n",
       "Hispanic                         1688\n",
       "Asian/PI                         1015\n",
       "Other                             570\n",
       "Native American                   371\n",
       "Multiracial                       270\n",
       "American Indian/Alaska Native      58\n",
       "Name: Race/ Ethnicity, dtype: int64"
      ]
     },
     "execution_count": 60,
     "metadata": {},
     "output_type": "execute_result"
    }
   ],
   "source": [
    "health_df1[\"Race/ Ethnicity\"].value_counts()"
   ]
  },
  {
   "cell_type": "markdown",
   "metadata": {},
   "source": [
    "    No value seems to be out of context"
   ]
  },
  {
   "cell_type": "markdown",
   "metadata": {},
   "source": [
    "#### Missing values and Treatment"
   ]
  },
  {
   "cell_type": "code",
   "execution_count": 61,
   "metadata": {},
   "outputs": [
    {
     "data": {
      "text/plain": [
       "Indicator Category               0\n",
       "Indicator                        0\n",
       "Year                             0\n",
       "Gender                           0\n",
       "Race/ Ethnicity                  0\n",
       "Value                           13\n",
       "Place                            0\n",
       "BCHC Requested Methodology     508\n",
       "Source                        2290\n",
       "Methods                       9280\n",
       "Notes                         9971\n",
       "dtype: int64"
      ]
     },
     "execution_count": 61,
     "metadata": {},
     "output_type": "execute_result"
    }
   ],
   "source": [
    "health_df1.isnull().sum()"
   ]
  },
  {
   "cell_type": "code",
   "execution_count": 66,
   "metadata": {},
   "outputs": [
    {
     "data": {
      "image/png": "[encoded data removed]",
      "text/plain": [
       "<Figure size 1800x720 with 2 Axes>"
      ]
     },
     "metadata": {
      "needs_background": "light"
     },
     "output_type": "display_data"
    }
   ],
   "source": [
    "missingno.matrix(health_df1)\n",
    "plt.show()"
   ]
  },
  {
   "cell_type": "markdown",
   "metadata": {},
   "source": [
    "    We can clearly see that columns - Notes and Methods are almost null\n",
    "    Also column - Source can also be considered having many null values\n",
    "    Looking at column - BCHC Requested Methodology, it surely do contain null values, but we can't replace it, hence should also be dropped\n",
    "    Column value contains a null value, but being numerical value, we can replace it with 1st business moments"
   ]
  },
  {
   "cell_type": "code",
   "execution_count": null,
   "metadata": {},
   "outputs": [],
   "source": [
    "health_df2=health_df1.iloc[:,0:7]\n",
    "health_df2."
   ]
  }
 ],
 "metadata": {
  "kernelspec": {
   "display_name": "Python 3",
   "language": "python",
   "name": "python3"
  },
  "language_info": {
   "codemirror_mode": {
    "name": "ipython",
    "version": 3
   },
   "file_extension": ".py",
   "mimetype": "text/x-python",
   "name": "python",
   "nbconvert_exporter": "python",
   "pygments_lexer": "ipython3",
   "version": "3.7.5"
  }
 },
 "nbformat": 4,
 "nbformat_minor": 2
}
